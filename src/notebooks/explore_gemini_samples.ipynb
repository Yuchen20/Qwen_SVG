{
 "cells": [
  {
   "cell_type": "code",
   "execution_count": 25,
   "id": "c2c3e4d6",
   "metadata": {},
   "outputs": [
    {
     "name": "stdout",
     "output_type": "stream",
     "text": [
      "<reasoning>\n",
      "1.  Visual Elements: Cerulean sky and rolling green hills.\n",
      "2.  Color Palette: Cerulean (light blue), various shades of green for the hills.\n",
      "3.  Layout: Sky occupies the top portion, hills the bottom. Overlapping ellipses create the rolling effect.\n",
      "4.  Base Shapes: `rect` for the sky, multiple `ellipse` shapes for the hills.\n",
      "5.  Details: Overlap the hills and use varied green tones.\n",
      "6.  Transformations: None needed.\n",
      "7.  Review: Simple, clean, and accurately represents the scene.\n",
      "</reasoning>\n",
      "\n",
      "\n",
      "<svg viewBox=\"0 0 256 256\" width=\"256\" height=\"256\" xmlns=\"http://www.w3.org/2000/svg\">\n",
      "\n",
      "  <!-- Sky background -->\n",
      "  <rect x=\"0\" y=\"0\" width=\"256\" height=\"150\" fill=\"cerulean\" />\n",
      "\n",
      "  <!-- First rolling hill (dark green) -->\n",
      "  <ellipse cx=\"128\" cy=\"180\" rx=\"140\" ry=\"50\" fill=\"forestgreen\" />\n",
      "\n",
      "  <!-- Second rolling hill (medium green) -->\n",
      "  <ellipse cx=\"128\" cy=\"200\" rx=\"140\" ry=\"50\" fill=\"seagreen\" />\n",
      "\n",
      "  <!-- Third rolling hill (light green) -->\n",
      "  <ellipse cx=\"128\" cy=\"220\" rx=\"140\" ry=\"50\" fill=\"mediumseagreen\" />\n",
      "\n",
      "</svg>\n"
     ]
    }
   ],
   "source": [
    "import os\n",
    "import pandas as pd\n",
    "\n",
    "\n",
    "DATA_FILE = os.path.join(os.path.dirname(__name__), '..', '..', 'data', \"svg_results.jsonl\")\n",
    "\n",
    "import pandas as pd\n",
    "\n",
    "df = pd.read_json(DATA_FILE, lines=True)\n",
    "\n",
    "# # remove the ```xml and ``` in the svg_content column\n",
    "# df['svg_content'] = df['svg_content'].str.replace('```xml', '', regex=False).str.replace('```', '', regex=False)\n",
    "# df['svg_content'] = df['svg_content'].str.strip()\n",
    "\n",
    "\n",
    "# # save it back to a new jsonl file\n",
    "# df.to_json(DATA_FILE, orient='records', lines=True)\n",
    "# print(f\"Saved cleaned data to {DATA_FILE}\")\n",
    "\n",
    "print(df.svg_content[0])"
   ]
  },
  {
   "cell_type": "code",
   "execution_count": null,
   "id": "eafa4152",
   "metadata": {},
   "outputs": [],
   "source": []
  }
 ],
 "metadata": {
  "kernelspec": {
   "display_name": "venv (Qwen_SVG)",
   "language": "python",
   "name": "python3"
  },
  "language_info": {
   "codemirror_mode": {
    "name": "ipython",
    "version": 3
   },
   "file_extension": ".py",
   "mimetype": "text/x-python",
   "name": "python",
   "nbconvert_exporter": "python",
   "pygments_lexer": "ipython3",
   "version": "3.11.5"
  }
 },
 "nbformat": 4,
 "nbformat_minor": 5
}
